{
 "cells": [
  {
   "cell_type": "markdown",
   "id": "0edae7cd",
   "metadata": {},
   "source": [
    "## Общая проверка"
   ]
  },
  {
   "cell_type": "code",
   "execution_count": 1,
   "id": "b55f0f32",
   "metadata": {
    "scrolled": false
   },
   "outputs": [
    {
     "name": "stdout",
     "output_type": "stream",
     "text": [
      "Test 1 from task example (subattribute of attribute): \r\n",
      "город Москва, Лесная, 7\r\n",
      "\r\n",
      "Test 2 from task example (incorrect price): \r\n",
      "ValueError error mistake was raised\r\n",
      "\r\n",
      "Test 3 from task example (no price): \r\n",
      "0\r\n",
      "\r\n",
      "DoD point 1:\r\n",
      "iphone_ad.price 100\r\n",
      "\r\n",
      "DoD points 2-4: implemented or checked before\r\n",
      "\r\n",
      "DoD point 5:\r\n",
      "iphone_ad.location.address город Самара, улица Мориса Тореза, 50\r\n",
      "\r\n",
      "DoD point 6:\r\n",
      "corgi_ad.class_ dogs\r\n",
      "\r\n",
      "DoD point 7:\r\n",
      "\u001b[1;33;10mВельш-корги | 1000 ₽\r\n"
     ]
    }
   ],
   "source": [
    "!python3 utils.py"
   ]
  },
  {
   "cell_type": "code",
   "execution_count": 2,
   "id": "0aee9a13",
   "metadata": {},
   "outputs": [
    {
     "name": "stdout",
     "output_type": "stream",
     "text": [
      "\u001b[1m./utils_2.py\u001b[m\u001b[36m:\u001b[m17\u001b[36m:\u001b[m80\u001b[36m:\u001b[m \u001b[1m\u001b[31mE501\u001b[m line too long (80 > 79 characters)\r\n",
      "\u001b[1m./utils_2.py\u001b[m\u001b[36m:\u001b[m36\u001b[36m:\u001b[m80\u001b[36m:\u001b[m \u001b[1m\u001b[31mE501\u001b[m line too long (88 > 79 characters)\r\n",
      "\u001b[1m./utils_2.py\u001b[m\u001b[36m:\u001b[m136\u001b[36m:\u001b[m80\u001b[36m:\u001b[m \u001b[1m\u001b[31mE501\u001b[m line too long (87 > 79 characters)\r\n",
      "\u001b[1m./utils.py\u001b[m\u001b[36m:\u001b[m17\u001b[36m:\u001b[m80\u001b[36m:\u001b[m \u001b[1m\u001b[31mE501\u001b[m line too long (80 > 79 characters)\r\n",
      "\u001b[1m./utils.py\u001b[m\u001b[36m:\u001b[m136\u001b[36m:\u001b[m80\u001b[36m:\u001b[m \u001b[1m\u001b[31mE501\u001b[m line too long (87 > 79 characters)\r\n",
      "\u001b[1m./utils_1.py\u001b[m\u001b[36m:\u001b[m21\u001b[36m:\u001b[m80\u001b[36m:\u001b[m \u001b[1m\u001b[31mE501\u001b[m line too long (88 > 79 characters)\r\n",
      "\u001b[1m./utils_1.py\u001b[m\u001b[36m:\u001b[m111\u001b[36m:\u001b[m80\u001b[36m:\u001b[m \u001b[1m\u001b[31mE501\u001b[m line too long (87 > 79 characters)\r\n"
     ]
    }
   ],
   "source": [
    "!flake8"
   ]
  },
  {
   "cell_type": "markdown",
   "id": "55b10386",
   "metadata": {},
   "source": [
    "## Импорт"
   ]
  },
  {
   "cell_type": "code",
   "execution_count": 3,
   "id": "b95770bc",
   "metadata": {},
   "outputs": [],
   "source": [
    "import json\n",
    "from utils import Advert"
   ]
  },
  {
   "cell_type": "markdown",
   "id": "fc7e2d09",
   "metadata": {},
   "source": [
    "## Задание №1"
   ]
  },
  {
   "cell_type": "code",
   "execution_count": 4,
   "id": "7bd91f0d",
   "metadata": {},
   "outputs": [],
   "source": [
    "iphone_str = \"\"\"{\n",
    "    \"title\": \"iPhone X\",\n",
    "    \"price\": 100, \n",
    "    \"location\": {\n",
    "        \"address\": \"город Самара, улица Мориса Тореза, 50\",\n",
    "        \"metro_stations\": [\"Спортивная\", \"Гагаринская\"]\n",
    "    }\n",
    "}\"\"\"\n",
    "\n",
    "corgi_str = \"\"\"{\n",
    "    \"title\": \"Вельш-корги\",\n",
    "    \"price\": 1000,\n",
    "    \"class\": \"dogs\",\n",
    "    \"location\": {\n",
    "        \"address\": \"сельское поселение Ельдигинское, поселок санатория Тишково, 25\"\n",
    "    }\n",
    "}\"\"\""
   ]
  },
  {
   "cell_type": "code",
   "execution_count": 5,
   "id": "68600c31",
   "metadata": {
    "scrolled": true
   },
   "outputs": [
    {
     "data": {
      "text/plain": [
       "'город Москва, Лесная, 7'"
      ]
     },
     "execution_count": 5,
     "metadata": {},
     "output_type": "execute_result"
    }
   ],
   "source": [
    "lesson_str = \"\"\"{\n",
    "    \"title\": \"python\", \"price\": 0,\n",
    "    \"location\": {\n",
    "        \"address\": \"город Москва, Лесная, 7\",\n",
    "        \"metro_stations\": [\"Белорусская\"]\n",
    "    }\n",
    "}\"\"\"\n",
    "lesson = json.loads(lesson_str)\n",
    "lesson_ad = Advert(lesson)\n",
    "\n",
    "lesson_ad.location.address"
   ]
  },
  {
   "cell_type": "code",
   "execution_count": 6,
   "id": "613e15e9",
   "metadata": {},
   "outputs": [
    {
     "data": {
      "text/plain": [
       "0"
      ]
     },
     "execution_count": 6,
     "metadata": {},
     "output_type": "execute_result"
    }
   ],
   "source": [
    "lesson_str = '{\"title\": \"python\"}'\n",
    "lesson = json.loads(lesson_str)\n",
    "lesson_ad = Advert(lesson)\n",
    "lesson_ad.price"
   ]
  },
  {
   "cell_type": "code",
   "execution_count": 7,
   "id": "8e7bb985",
   "metadata": {
    "scrolled": false
   },
   "outputs": [
    {
     "ename": "ValueError",
     "evalue": "must be >= 0",
     "output_type": "error",
     "traceback": [
      "\u001b[0;31m---------------------------------------------------------------------------\u001b[0m",
      "\u001b[0;31mValueError\u001b[0m                                Traceback (most recent call last)",
      "\u001b[0;32m/var/folders/qr/s242yg692gj9d2qnn_jnhs900000gn/T/ipykernel_2645/1386268462.py\u001b[0m in \u001b[0;36m<module>\u001b[0;34m\u001b[0m\n\u001b[1;32m      1\u001b[0m \u001b[0mlesson_str\u001b[0m \u001b[0;34m=\u001b[0m \u001b[0;34m'{\"title\": \"python\", \"price\": -1}'\u001b[0m\u001b[0;34m\u001b[0m\u001b[0;34m\u001b[0m\u001b[0m\n\u001b[1;32m      2\u001b[0m \u001b[0mlesson\u001b[0m \u001b[0;34m=\u001b[0m \u001b[0mjson\u001b[0m\u001b[0;34m.\u001b[0m\u001b[0mloads\u001b[0m\u001b[0;34m(\u001b[0m\u001b[0mlesson_str\u001b[0m\u001b[0;34m)\u001b[0m\u001b[0;34m\u001b[0m\u001b[0;34m\u001b[0m\u001b[0m\n\u001b[0;32m----> 3\u001b[0;31m \u001b[0mlesson_ad\u001b[0m \u001b[0;34m=\u001b[0m \u001b[0mAdvert\u001b[0m\u001b[0;34m(\u001b[0m\u001b[0mlesson\u001b[0m\u001b[0;34m)\u001b[0m\u001b[0;34m\u001b[0m\u001b[0;34m\u001b[0m\u001b[0m\n\u001b[0m",
      "\u001b[0;32m~/Desktop/avito/python/hw_2/utils.py\u001b[0m in \u001b[0;36m__init__\u001b[0;34m(self, json_dict)\u001b[0m\n\u001b[1;32m     67\u001b[0m         \u001b[0;31m# yellow colour corresponds to repr_color_code=33\u001b[0m\u001b[0;34m\u001b[0m\u001b[0;34m\u001b[0m\u001b[0;34m\u001b[0m\u001b[0m\n\u001b[1;32m     68\u001b[0m         \u001b[0mColorizeMixin\u001b[0m\u001b[0;34m.\u001b[0m\u001b[0m__init__\u001b[0m\u001b[0;34m(\u001b[0m\u001b[0mself\u001b[0m\u001b[0;34m,\u001b[0m \u001b[0mrepr_color_code\u001b[0m\u001b[0;34m=\u001b[0m\u001b[0;36m33\u001b[0m\u001b[0;34m)\u001b[0m\u001b[0;34m\u001b[0m\u001b[0;34m\u001b[0m\u001b[0m\n\u001b[0;32m---> 69\u001b[0;31m         \u001b[0mAdvertBase\u001b[0m\u001b[0;34m.\u001b[0m\u001b[0m__init__\u001b[0m\u001b[0;34m(\u001b[0m\u001b[0mself\u001b[0m\u001b[0;34m,\u001b[0m \u001b[0mjson_dict\u001b[0m\u001b[0;34m)\u001b[0m\u001b[0;34m\u001b[0m\u001b[0;34m\u001b[0m\u001b[0m\n\u001b[0m\u001b[1;32m     70\u001b[0m \u001b[0;34m\u001b[0m\u001b[0m\n\u001b[1;32m     71\u001b[0m \u001b[0;34m\u001b[0m\u001b[0m\n",
      "\u001b[0;32m~/Desktop/avito/python/hw_2/utils.py\u001b[0m in \u001b[0;36m__init__\u001b[0;34m(self, json_dict)\u001b[0m\n\u001b[1;32m     44\u001b[0m                     \u001b[0msetattr\u001b[0m\u001b[0;34m(\u001b[0m\u001b[0mgetattr\u001b[0m\u001b[0;34m(\u001b[0m\u001b[0mself\u001b[0m\u001b[0;34m,\u001b[0m \u001b[0mkey\u001b[0m\u001b[0;34m)\u001b[0m\u001b[0;34m,\u001b[0m \u001b[0mk\u001b[0m\u001b[0;34m,\u001b[0m \u001b[0mv\u001b[0m\u001b[0;34m)\u001b[0m\u001b[0;34m\u001b[0m\u001b[0;34m\u001b[0m\u001b[0m\n\u001b[1;32m     45\u001b[0m \u001b[0;34m\u001b[0m\u001b[0m\n\u001b[0;32m---> 46\u001b[0;31m         \u001b[0mself\u001b[0m\u001b[0;34m.\u001b[0m\u001b[0mcheck_price\u001b[0m\u001b[0;34m(\u001b[0m\u001b[0;34m)\u001b[0m\u001b[0;34m\u001b[0m\u001b[0;34m\u001b[0m\u001b[0m\n\u001b[0m\u001b[1;32m     47\u001b[0m \u001b[0;34m\u001b[0m\u001b[0m\n\u001b[1;32m     48\u001b[0m     \u001b[0;32mdef\u001b[0m \u001b[0mcheck_price\u001b[0m\u001b[0;34m(\u001b[0m\u001b[0mself\u001b[0m\u001b[0;34m)\u001b[0m \u001b[0;34m->\u001b[0m \u001b[0;32mNone\u001b[0m\u001b[0;34m:\u001b[0m\u001b[0;34m\u001b[0m\u001b[0;34m\u001b[0m\u001b[0m\n",
      "\u001b[0;32m~/Desktop/avito/python/hw_2/utils.py\u001b[0m in \u001b[0;36mcheck_price\u001b[0;34m(self)\u001b[0m\n\u001b[1;32m     57\u001b[0m \u001b[0;34m\u001b[0m\u001b[0m\n\u001b[1;32m     58\u001b[0m         \u001b[0;32mif\u001b[0m \u001b[0mself\u001b[0m\u001b[0;34m.\u001b[0m\u001b[0mprice\u001b[0m \u001b[0;34m<\u001b[0m \u001b[0;36m0\u001b[0m\u001b[0;34m:\u001b[0m\u001b[0;34m\u001b[0m\u001b[0;34m\u001b[0m\u001b[0m\n\u001b[0;32m---> 59\u001b[0;31m             \u001b[0;32mraise\u001b[0m \u001b[0mValueError\u001b[0m\u001b[0;34m(\u001b[0m\u001b[0;34m'must be >= 0'\u001b[0m\u001b[0;34m)\u001b[0m\u001b[0;34m\u001b[0m\u001b[0;34m\u001b[0m\u001b[0m\n\u001b[0m\u001b[1;32m     60\u001b[0m \u001b[0;34m\u001b[0m\u001b[0m\n\u001b[1;32m     61\u001b[0m     \u001b[0;32mdef\u001b[0m \u001b[0m__repr__\u001b[0m\u001b[0;34m(\u001b[0m\u001b[0mself\u001b[0m\u001b[0;34m)\u001b[0m \u001b[0;34m->\u001b[0m \u001b[0mstr\u001b[0m\u001b[0;34m:\u001b[0m\u001b[0;34m\u001b[0m\u001b[0;34m\u001b[0m\u001b[0m\n",
      "\u001b[0;31mValueError\u001b[0m: must be >= 0"
     ]
    }
   ],
   "source": [
    "lesson_str = '{\"title\": \"python\", \"price\": -1}'\n",
    "lesson = json.loads(lesson_str)\n",
    "lesson_ad = Advert(lesson)"
   ]
  },
  {
   "cell_type": "code",
   "execution_count": 8,
   "id": "3a978875",
   "metadata": {},
   "outputs": [
    {
     "data": {
      "text/plain": [
       "({'repr_color_code': 33,\n",
       "  'title': 'iPhone X',\n",
       "  'price': 100,\n",
       "  'location': <function utils.AdvertBase.__init__.<locals>.<lambda>()>},\n",
       " {'address': 'город Самара, улица Мориса Тореза, 50',\n",
       "  'metro_stations': ['Спортивная', 'Гагаринская']})"
      ]
     },
     "execution_count": 8,
     "metadata": {},
     "output_type": "execute_result"
    }
   ],
   "source": [
    "iphone = json.loads(iphone_str)\n",
    "iphone_ad = Advert(iphone)\n",
    "\n",
    "iphone_ad.__dict__, iphone_ad.location.__dict__"
   ]
  },
  {
   "cell_type": "code",
   "execution_count": 9,
   "id": "f1cefc91",
   "metadata": {},
   "outputs": [
    {
     "data": {
      "text/plain": [
       "({'repr_color_code': 33,\n",
       "  'title': 'Вельш-корги',\n",
       "  'price': 1000,\n",
       "  'class_': 'dogs',\n",
       "  'location': <function utils.AdvertBase.__init__.<locals>.<lambda>()>},\n",
       " {'address': 'сельское поселение Ельдигинское, поселок санатория Тишково, 25'})"
      ]
     },
     "execution_count": 9,
     "metadata": {},
     "output_type": "execute_result"
    }
   ],
   "source": [
    "corgi = json.loads(corgi_str)\n",
    "corgi_ad = Advert(corgi)\n",
    "\n",
    "corgi_ad.__dict__, corgi_ad.location.__dict__"
   ]
  },
  {
   "cell_type": "markdown",
   "id": "61a7ca75",
   "metadata": {},
   "source": [
    "## Задание №2"
   ]
  },
  {
   "cell_type": "code",
   "execution_count": 10,
   "id": "be1e788a",
   "metadata": {
    "scrolled": false
   },
   "outputs": [
    {
     "name": "stdout",
     "output_type": "stream",
     "text": [
      "\u001b[1;33;10miPhone X | 100 ₽\n"
     ]
    }
   ],
   "source": [
    "iphone = json.loads(iphone_str)\n",
    "iphone_ad = Advert(iphone)\n",
    "print(iphone_ad)"
   ]
  }
 ],
 "metadata": {
  "kernelspec": {
   "display_name": "Python 3 (ipykernel)",
   "language": "python",
   "name": "python3"
  },
  "language_info": {
   "codemirror_mode": {
    "name": "ipython",
    "version": 3
   },
   "file_extension": ".py",
   "mimetype": "text/x-python",
   "name": "python",
   "nbconvert_exporter": "python",
   "pygments_lexer": "ipython3",
   "version": "3.8.1"
  }
 },
 "nbformat": 4,
 "nbformat_minor": 5
}
