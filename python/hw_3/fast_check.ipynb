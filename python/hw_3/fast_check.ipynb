{
 "cells": [
  {
   "cell_type": "markdown",
   "id": "0aece74d",
   "metadata": {},
   "source": [
    "### codestyle"
   ]
  },
  {
   "cell_type": "code",
   "execution_count": 1,
   "id": "b14d46ad",
   "metadata": {
    "scrolled": true
   },
   "outputs": [
    {
     "name": "stdout",
     "output_type": "stream",
     "text": [
      "\u001b[1m./test_what_is_year_now.py\u001b[m\u001b[36m:\u001b[m20\u001b[36m:\u001b[m80\u001b[36m:\u001b[m \u001b[1m\u001b[31mE501\u001b[m line too long (86 > 79 characters)\n",
      "\u001b[1m./test_what_is_year_now.py\u001b[m\u001b[36m:\u001b[m44\u001b[36m:\u001b[m80\u001b[36m:\u001b[m \u001b[1m\u001b[31mE501\u001b[m line too long (83 > 79 characters)\n",
      "\u001b[1m./test_what_is_year_now.py\u001b[m\u001b[36m:\u001b[m45\u001b[36m:\u001b[m80\u001b[36m:\u001b[m \u001b[1m\u001b[31mE501\u001b[m line too long (80 > 79 characters)\n",
      "\u001b[1m./test_what_is_year_now.py\u001b[m\u001b[36m:\u001b[m54\u001b[36m:\u001b[m80\u001b[36m:\u001b[m \u001b[1m\u001b[31mE501\u001b[m line too long (83 > 79 characters)\n",
      "\u001b[1m./test_what_is_year_now.py\u001b[m\u001b[36m:\u001b[m55\u001b[36m:\u001b[m80\u001b[36m:\u001b[m \u001b[1m\u001b[31mE501\u001b[m line too long (80 > 79 characters)\n",
      "\u001b[1m./test_what_is_year_now.py\u001b[m\u001b[36m:\u001b[m65\u001b[36m:\u001b[m80\u001b[36m:\u001b[m \u001b[1m\u001b[31mE501\u001b[m line too long (83 > 79 characters)\n",
      "\u001b[1m./test_morse.py\u001b[m\u001b[36m:\u001b[m69\u001b[36m:\u001b[m80\u001b[36m:\u001b[m \u001b[1m\u001b[31mE501\u001b[m line too long (102 > 79 characters)\n",
      "\u001b[1m./test_morse.py\u001b[m\u001b[36m:\u001b[m70\u001b[36m:\u001b[m80\u001b[36m:\u001b[m \u001b[1m\u001b[31mE501\u001b[m line too long (96 > 79 characters)\n",
      "\u001b[1m./test_morse.py\u001b[m\u001b[36m:\u001b[m80\u001b[36m:\u001b[m80\u001b[36m:\u001b[m \u001b[1m\u001b[31mE501\u001b[m line too long (88 > 79 characters)\n",
      "\u001b[1m./test_pytest_one_hot_encoder.py\u001b[m\u001b[36m:\u001b[m10\u001b[36m:\u001b[m80\u001b[36m:\u001b[m \u001b[1m\u001b[31mE501\u001b[m line too long (96 > 79 characters)\n",
      "\u001b[1m./test_unittest_one_hot_encoder.py\u001b[m\u001b[36m:\u001b[m10\u001b[36m:\u001b[m80\u001b[36m:\u001b[m \u001b[1m\u001b[31mE501\u001b[m line too long (87 > 79 characters)\n",
      "\u001b[1m./test_unittest_one_hot_encoder.py\u001b[m\u001b[36m:\u001b[m26\u001b[36m:\u001b[m80\u001b[36m:\u001b[m \u001b[1m\u001b[31mE501\u001b[m line too long (84 > 79 characters)\n",
      "\u001b[1m./what_is_year_now.py\u001b[m\u001b[36m:\u001b[m18\u001b[36m:\u001b[m80\u001b[36m:\u001b[m \u001b[1m\u001b[31mE501\u001b[m line too long (86 > 79 characters)\n",
      "\u001b[1m./morse.py\u001b[m\u001b[36m:\u001b[m50\u001b[36m:\u001b[m80\u001b[36m:\u001b[m \u001b[1m\u001b[31mE501\u001b[m line too long (88 > 79 characters)\n",
      "\u001b[1m./one_hot_encoder.py\u001b[m\u001b[36m:\u001b[m20\u001b[36m:\u001b[m80\u001b[36m:\u001b[m \u001b[1m\u001b[31mE501\u001b[m line too long (85 > 79 characters)\n"
     ]
    }
   ],
   "source": [
    "!flake8"
   ]
  },
  {
   "cell_type": "markdown",
   "id": "eb4dd2c2",
   "metadata": {},
   "source": [
    "### issue-01"
   ]
  },
  {
   "cell_type": "code",
   "execution_count": 2,
   "id": "55a02ce7",
   "metadata": {},
   "outputs": [],
   "source": [
    "!python3 -m doctest -o NORMALIZE_WHITESPACE -o IGNORE_EXCEPTION_DETAIL test_morse.py > result_1.txt"
   ]
  },
  {
   "cell_type": "markdown",
   "id": "b53f9102",
   "metadata": {},
   "source": [
    "### issue-02"
   ]
  },
  {
   "cell_type": "code",
   "execution_count": 3,
   "id": "4cda8db5",
   "metadata": {},
   "outputs": [],
   "source": [
    "!pytest test_morse.py > result_2.txt"
   ]
  },
  {
   "cell_type": "markdown",
   "id": "3c88d8ae",
   "metadata": {},
   "source": [
    "### issue-03"
   ]
  },
  {
   "cell_type": "code",
   "execution_count": 4,
   "id": "90884225",
   "metadata": {},
   "outputs": [],
   "source": [
    "!python3 -m unittest test_unittest_one_hot_encoder.py 2> result_3.txt"
   ]
  },
  {
   "cell_type": "markdown",
   "id": "658d2911",
   "metadata": {},
   "source": [
    "### issue-04"
   ]
  },
  {
   "cell_type": "code",
   "execution_count": 5,
   "id": "4b9feebe",
   "metadata": {},
   "outputs": [],
   "source": [
    "!pytest test_pytest_one_hot_encoder.py > result_4.txt"
   ]
  },
  {
   "cell_type": "markdown",
   "id": "fcd70893",
   "metadata": {},
   "source": [
    "### issue-05"
   ]
  },
  {
   "cell_type": "code",
   "execution_count": 6,
   "id": "1792ecb4",
   "metadata": {},
   "outputs": [],
   "source": [
    "# 'https://stackoverflow.com/questions/48113538/\\\n",
    "# mocking-urllib-request-urlopens-read-function-returns-magicmock-signature'"
   ]
  },
  {
   "cell_type": "code",
   "execution_count": 7,
   "id": "e2bb253f",
   "metadata": {},
   "outputs": [],
   "source": [
    "!pytest test_what_is_year_now.py > result_5.txt"
   ]
  },
  {
   "cell_type": "markdown",
   "id": "e7f2a2b3",
   "metadata": {},
   "source": [
    "### coverage tests for all files"
   ]
  },
  {
   "cell_type": "code",
   "execution_count": 8,
   "id": "f472c40f",
   "metadata": {
    "scrolled": true
   },
   "outputs": [
    {
     "name": "stdout",
     "output_type": "stream",
     "text": [
      "\u001b[1m============================= test session starts ==============================\u001b[0m\n",
      "platform darwin -- Python 3.8.1, pytest-6.2.5, py-1.10.0, pluggy-1.0.0\n",
      "rootdir: /Users/nikitabaramiya/Desktop/avito/python/hw_3\n",
      "plugins: hypothesis-6.39.4, anyio-3.3.1, cov-4.0.0\n",
      "collected 15 items                                                             \u001b[0m\n",
      "\n",
      "test_morse.py \u001b[32m.\u001b[0m\u001b[32m.\u001b[0m\u001b[32m.\u001b[0m\u001b[32m.\u001b[0m\u001b[32m                                                       [ 26%]\u001b[0m\n",
      "test_pytest_one_hot_encoder.py \u001b[32m.\u001b[0m\u001b[32m.\u001b[0m\u001b[32m.\u001b[0m\u001b[32m.\u001b[0m\u001b[32m                                      [ 53%]\u001b[0m\n",
      "test_unittest_one_hot_encoder.py \u001b[32m.\u001b[0m\u001b[32m.\u001b[0m\u001b[32m.\u001b[0m\u001b[32m.\u001b[0m\u001b[32m                                    [ 80%]\u001b[0m\n",
      "test_what_is_year_now.py \u001b[32m.\u001b[0m\u001b[32m.\u001b[0m\u001b[32m.\u001b[0m\u001b[32m                                             [100%]\u001b[0m\n",
      "\n",
      "---------- coverage: platform darwin, python 3.8.1-final-0 -----------\n",
      "Coverage HTML written to dir htmlcov\n",
      "\n",
      "\n",
      "\u001b[32m============================== \u001b[32m\u001b[1m15 passed\u001b[0m\u001b[32m in 0.32s\u001b[0m\u001b[32m ==============================\u001b[0m\n"
     ]
    }
   ],
   "source": [
    "!python3 -m pytest --cov . --cov-report html"
   ]
  }
 ],
 "metadata": {
  "kernelspec": {
   "display_name": "Python 3 (ipykernel)",
   "language": "python",
   "name": "python3"
  },
  "language_info": {
   "codemirror_mode": {
    "name": "ipython",
    "version": 3
   },
   "file_extension": ".py",
   "mimetype": "text/x-python",
   "name": "python",
   "nbconvert_exporter": "python",
   "pygments_lexer": "ipython3",
   "version": "3.8.1"
  }
 },
 "nbformat": 4,
 "nbformat_minor": 5
}
